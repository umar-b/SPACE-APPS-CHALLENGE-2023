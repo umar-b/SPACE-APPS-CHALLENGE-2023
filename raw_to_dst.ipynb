{
 "cells": [
  {
   "cell_type": "code",
   "execution_count": 3,
   "id": "37c18ee9-bbba-4888-b135-1ef2cfac6f88",
   "metadata": {},
   "outputs": [],
   "source": [
    "import pandas as pd\n",
    "import matplotlib.pyplot as plt\n",
    "import torch\n",
    "import torch.nn as nn\n",
    "import torch.nn.functional as F\n",
    "from torch.utils.data import Dataset\n",
    "from sklearn.preprocessing import StandardScaler\n",
    "from torch.utils.data import DataLoader\n"
   ]
  },
  {
   "cell_type": "code",
   "execution_count": 9,
   "id": "d5cba784-4e4b-4583-a5f6-50374c4029ae",
   "metadata": {},
   "outputs": [],
   "source": [
    "class SolarDataset(Dataset):\n",
    "    def __init__(self, data_array, targets_array=None):\n",
    "        self.scaler = StandardScaler()\n",
    "        self.data = self.scaler.fit_transform(data_array)\n",
    "\n",
    "        if targets_array is not None:\n",
    "            self.targets = targets_array\n",
    "        else:\n",
    "            self.targets = None\n",
    "\n",
    "    def __len__(self):\n",
    "        return len(self.data)\n",
    "\n",
    "    def __getitem__(self, idx):\n",
    "        data_sample = torch.tensor(self.data[idx], dtype=torch.float32)\n",
    "\n",
    "        if self.targets is not None:\n",
    "            target_sample = torch.tensor(self.targets[idx], dtype=torch.float32)\n",
    "            return data_sample, target_sample\n",
    "        else:\n",
    "            return data_sample\n"
   ]
  },
  {
   "cell_type": "code",
   "execution_count": 5,
   "id": "32d4580a-2973-4229-9e4a-7faee037cdb8",
   "metadata": {},
   "outputs": [],
   "source": [
    "class SolarNet(nn.Module):\n",
    "    def __init__(self, input_dim):\n",
    "        super(SolarNet, self).__init__()\n",
    "\n",
    "        self.fc1 = nn.Linear(input_dim, 256)\n",
    "        self.bn1 = nn.BatchNorm1d(256)\n",
    "        self.fc2 = nn.Linear(256, 512)\n",
    "        self.bn2 = nn.BatchNorm1d(512)\n",
    "        self.fc3 = nn.Linear(512, 256)\n",
    "        self.bn3 = nn.BatchNorm1d(256)\n",
    "        self.fc4 = nn.Linear(256, 128)\n",
    "        self.bn4 = nn.BatchNorm1d(128)\n",
    "        self.fc5 = nn.Linear(128, 1)\n",
    "\n",
    "        self.dropout = nn.Dropout(0.5)\n",
    "\n",
    "    def forward(self, x):\n",
    "        x = F.leaky_relu(self.bn1(self.fc1(x)))\n",
    "        x = self.dropout(x)\n",
    "        x = F.leaky_relu(self.bn2(self.fc2(x)))\n",
    "        x = self.dropout(x)\n",
    "        x = F.leaky_relu(self.bn3(self.fc3(x)))\n",
    "        x = self.dropout(x)\n",
    "        x = F.leaky_relu(self.bn4(self.fc4(x)))\n",
    "        x = self.dropout(x)\n",
    "        return self.fc5(x)\n"
   ]
  }
 ],
 "metadata": {
  "kernelspec": {
   "display_name": "Python 3 (ipykernel)",
   "language": "python",
   "name": "python3"
  },
  "language_info": {
   "codemirror_mode": {
    "name": "ipython",
    "version": 3
   },
   "file_extension": ".py",
   "mimetype": "text/x-python",
   "name": "python",
   "nbconvert_exporter": "python",
   "pygments_lexer": "ipython3",
   "version": "3.11.0"
  }
 },
 "nbformat": 4,
 "nbformat_minor": 5
}
